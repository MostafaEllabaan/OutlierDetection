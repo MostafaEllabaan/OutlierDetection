{
 "cells": [
  {
   "cell_type": "code",
   "execution_count": 11,
   "metadata": {},
   "outputs": [],
   "source": [
    "import pandas as pd\n",
    "import numpy as np\n",
    "import matplotlib.pyplot as plt\n",
    "import scipy.stats as stats\n",
    "import seaborn as sns"
   ]
  },
  {
   "cell_type": "markdown",
   "metadata": {},
   "source": [
    "### Introduction to Dataset"
   ]
  },
  {
   "cell_type": "code",
   "execution_count": 5,
   "metadata": {},
   "outputs": [],
   "source": [
    "#import\n",
    "from sklearn.datasets import load_boston"
   ]
  },
  {
   "cell_type": "code",
   "execution_count": 4,
   "metadata": {},
   "outputs": [],
   "source": [
    "boston = load_boston()"
   ]
  },
  {
   "cell_type": "code",
   "execution_count": 8,
   "metadata": {},
   "outputs": [
    {
     "data": {
      "text/html": [
       "<div>\n",
       "<style scoped>\n",
       "    .dataframe tbody tr th:only-of-type {\n",
       "        vertical-align: middle;\n",
       "    }\n",
       "\n",
       "    .dataframe tbody tr th {\n",
       "        vertical-align: top;\n",
       "    }\n",
       "\n",
       "    .dataframe thead th {\n",
       "        text-align: right;\n",
       "    }\n",
       "</style>\n",
       "<table border=\"1\" class=\"dataframe\">\n",
       "  <thead>\n",
       "    <tr style=\"text-align: right;\">\n",
       "      <th></th>\n",
       "      <th>CRIM</th>\n",
       "      <th>ZN</th>\n",
       "      <th>INDUS</th>\n",
       "      <th>CHAS</th>\n",
       "      <th>NOX</th>\n",
       "      <th>RM</th>\n",
       "      <th>AGE</th>\n",
       "      <th>DIS</th>\n",
       "      <th>RAD</th>\n",
       "      <th>TAX</th>\n",
       "      <th>PTRATIO</th>\n",
       "      <th>B</th>\n",
       "      <th>LSTAT</th>\n",
       "    </tr>\n",
       "  </thead>\n",
       "  <tbody>\n",
       "    <tr>\n",
       "      <th>0</th>\n",
       "      <td>0.00632</td>\n",
       "      <td>18.0</td>\n",
       "      <td>2.31</td>\n",
       "      <td>0.0</td>\n",
       "      <td>0.538</td>\n",
       "      <td>6.575</td>\n",
       "      <td>65.2</td>\n",
       "      <td>4.0900</td>\n",
       "      <td>1.0</td>\n",
       "      <td>296.0</td>\n",
       "      <td>15.3</td>\n",
       "      <td>396.90</td>\n",
       "      <td>4.98</td>\n",
       "    </tr>\n",
       "    <tr>\n",
       "      <th>1</th>\n",
       "      <td>0.02731</td>\n",
       "      <td>0.0</td>\n",
       "      <td>7.07</td>\n",
       "      <td>0.0</td>\n",
       "      <td>0.469</td>\n",
       "      <td>6.421</td>\n",
       "      <td>78.9</td>\n",
       "      <td>4.9671</td>\n",
       "      <td>2.0</td>\n",
       "      <td>242.0</td>\n",
       "      <td>17.8</td>\n",
       "      <td>396.90</td>\n",
       "      <td>9.14</td>\n",
       "    </tr>\n",
       "    <tr>\n",
       "      <th>2</th>\n",
       "      <td>0.02729</td>\n",
       "      <td>0.0</td>\n",
       "      <td>7.07</td>\n",
       "      <td>0.0</td>\n",
       "      <td>0.469</td>\n",
       "      <td>7.185</td>\n",
       "      <td>61.1</td>\n",
       "      <td>4.9671</td>\n",
       "      <td>2.0</td>\n",
       "      <td>242.0</td>\n",
       "      <td>17.8</td>\n",
       "      <td>392.83</td>\n",
       "      <td>4.03</td>\n",
       "    </tr>\n",
       "    <tr>\n",
       "      <th>3</th>\n",
       "      <td>0.03237</td>\n",
       "      <td>0.0</td>\n",
       "      <td>2.18</td>\n",
       "      <td>0.0</td>\n",
       "      <td>0.458</td>\n",
       "      <td>6.998</td>\n",
       "      <td>45.8</td>\n",
       "      <td>6.0622</td>\n",
       "      <td>3.0</td>\n",
       "      <td>222.0</td>\n",
       "      <td>18.7</td>\n",
       "      <td>394.63</td>\n",
       "      <td>2.94</td>\n",
       "    </tr>\n",
       "    <tr>\n",
       "      <th>4</th>\n",
       "      <td>0.06905</td>\n",
       "      <td>0.0</td>\n",
       "      <td>2.18</td>\n",
       "      <td>0.0</td>\n",
       "      <td>0.458</td>\n",
       "      <td>7.147</td>\n",
       "      <td>54.2</td>\n",
       "      <td>6.0622</td>\n",
       "      <td>3.0</td>\n",
       "      <td>222.0</td>\n",
       "      <td>18.7</td>\n",
       "      <td>396.90</td>\n",
       "      <td>5.33</td>\n",
       "    </tr>\n",
       "    <tr>\n",
       "      <th>...</th>\n",
       "      <td>...</td>\n",
       "      <td>...</td>\n",
       "      <td>...</td>\n",
       "      <td>...</td>\n",
       "      <td>...</td>\n",
       "      <td>...</td>\n",
       "      <td>...</td>\n",
       "      <td>...</td>\n",
       "      <td>...</td>\n",
       "      <td>...</td>\n",
       "      <td>...</td>\n",
       "      <td>...</td>\n",
       "      <td>...</td>\n",
       "    </tr>\n",
       "    <tr>\n",
       "      <th>501</th>\n",
       "      <td>0.06263</td>\n",
       "      <td>0.0</td>\n",
       "      <td>11.93</td>\n",
       "      <td>0.0</td>\n",
       "      <td>0.573</td>\n",
       "      <td>6.593</td>\n",
       "      <td>69.1</td>\n",
       "      <td>2.4786</td>\n",
       "      <td>1.0</td>\n",
       "      <td>273.0</td>\n",
       "      <td>21.0</td>\n",
       "      <td>391.99</td>\n",
       "      <td>9.67</td>\n",
       "    </tr>\n",
       "    <tr>\n",
       "      <th>502</th>\n",
       "      <td>0.04527</td>\n",
       "      <td>0.0</td>\n",
       "      <td>11.93</td>\n",
       "      <td>0.0</td>\n",
       "      <td>0.573</td>\n",
       "      <td>6.120</td>\n",
       "      <td>76.7</td>\n",
       "      <td>2.2875</td>\n",
       "      <td>1.0</td>\n",
       "      <td>273.0</td>\n",
       "      <td>21.0</td>\n",
       "      <td>396.90</td>\n",
       "      <td>9.08</td>\n",
       "    </tr>\n",
       "    <tr>\n",
       "      <th>503</th>\n",
       "      <td>0.06076</td>\n",
       "      <td>0.0</td>\n",
       "      <td>11.93</td>\n",
       "      <td>0.0</td>\n",
       "      <td>0.573</td>\n",
       "      <td>6.976</td>\n",
       "      <td>91.0</td>\n",
       "      <td>2.1675</td>\n",
       "      <td>1.0</td>\n",
       "      <td>273.0</td>\n",
       "      <td>21.0</td>\n",
       "      <td>396.90</td>\n",
       "      <td>5.64</td>\n",
       "    </tr>\n",
       "    <tr>\n",
       "      <th>504</th>\n",
       "      <td>0.10959</td>\n",
       "      <td>0.0</td>\n",
       "      <td>11.93</td>\n",
       "      <td>0.0</td>\n",
       "      <td>0.573</td>\n",
       "      <td>6.794</td>\n",
       "      <td>89.3</td>\n",
       "      <td>2.3889</td>\n",
       "      <td>1.0</td>\n",
       "      <td>273.0</td>\n",
       "      <td>21.0</td>\n",
       "      <td>393.45</td>\n",
       "      <td>6.48</td>\n",
       "    </tr>\n",
       "    <tr>\n",
       "      <th>505</th>\n",
       "      <td>0.04741</td>\n",
       "      <td>0.0</td>\n",
       "      <td>11.93</td>\n",
       "      <td>0.0</td>\n",
       "      <td>0.573</td>\n",
       "      <td>6.030</td>\n",
       "      <td>80.8</td>\n",
       "      <td>2.5050</td>\n",
       "      <td>1.0</td>\n",
       "      <td>273.0</td>\n",
       "      <td>21.0</td>\n",
       "      <td>396.90</td>\n",
       "      <td>7.88</td>\n",
       "    </tr>\n",
       "  </tbody>\n",
       "</table>\n",
       "<p>506 rows × 13 columns</p>\n",
       "</div>"
      ],
      "text/plain": [
       "        CRIM    ZN  INDUS  CHAS    NOX     RM   AGE     DIS  RAD    TAX  \\\n",
       "0    0.00632  18.0   2.31   0.0  0.538  6.575  65.2  4.0900  1.0  296.0   \n",
       "1    0.02731   0.0   7.07   0.0  0.469  6.421  78.9  4.9671  2.0  242.0   \n",
       "2    0.02729   0.0   7.07   0.0  0.469  7.185  61.1  4.9671  2.0  242.0   \n",
       "3    0.03237   0.0   2.18   0.0  0.458  6.998  45.8  6.0622  3.0  222.0   \n",
       "4    0.06905   0.0   2.18   0.0  0.458  7.147  54.2  6.0622  3.0  222.0   \n",
       "..       ...   ...    ...   ...    ...    ...   ...     ...  ...    ...   \n",
       "501  0.06263   0.0  11.93   0.0  0.573  6.593  69.1  2.4786  1.0  273.0   \n",
       "502  0.04527   0.0  11.93   0.0  0.573  6.120  76.7  2.2875  1.0  273.0   \n",
       "503  0.06076   0.0  11.93   0.0  0.573  6.976  91.0  2.1675  1.0  273.0   \n",
       "504  0.10959   0.0  11.93   0.0  0.573  6.794  89.3  2.3889  1.0  273.0   \n",
       "505  0.04741   0.0  11.93   0.0  0.573  6.030  80.8  2.5050  1.0  273.0   \n",
       "\n",
       "     PTRATIO       B  LSTAT  \n",
       "0       15.3  396.90   4.98  \n",
       "1       17.8  396.90   9.14  \n",
       "2       17.8  392.83   4.03  \n",
       "3       18.7  394.63   2.94  \n",
       "4       18.7  396.90   5.33  \n",
       "..       ...     ...    ...  \n",
       "501     21.0  391.99   9.67  \n",
       "502     21.0  396.90   9.08  \n",
       "503     21.0  396.90   5.64  \n",
       "504     21.0  393.45   6.48  \n",
       "505     21.0  396.90   7.88  \n",
       "\n",
       "[506 rows x 13 columns]"
      ]
     },
     "execution_count": 8,
     "metadata": {},
     "output_type": "execute_result"
    }
   ],
   "source": [
    "boston_df = pd.DataFrame(boston.data, columns=boston.feature_names)\n",
    "boston_df"
   ]
  },
  {
   "cell_type": "markdown",
   "metadata": {},
   "source": [
    "### Detecting Outliers:"
   ]
  },
  {
   "cell_type": "markdown",
   "metadata": {},
   "source": [
    "We will use this function later in the notebook to print out values of outliers."
   ]
  },
  {
   "cell_type": "code",
   "execution_count": 41,
   "metadata": {},
   "outputs": [],
   "source": [
    "def outliers(df, variable, ub, lb):\n",
    "    print(\"Outliers Detected\")\n",
    "    outlier = df.loc[(df[variable] > ub) | (df[variable] < lb), variable].sort_values()\n",
    "    print(outlier)\n",
    "    print(\"\\nTotal number of ourliers detected:{}\\n\".format(len(outlier)))"
   ]
  },
  {
   "cell_type": "markdown",
   "metadata": {},
   "source": [
    "#### 1. Mean +/-  n Standard Deviation Method"
   ]
  },
  {
   "cell_type": "code",
   "execution_count": 42,
   "metadata": {},
   "outputs": [],
   "source": [
    "def zscore_method(df, cols, thr):\n",
    "    \n",
    "    for col in cols:\n",
    "        \n",
    "        mean = df[col].mean()\n",
    "        std = df[col].std()\n",
    "        \n",
    "        upper_bound = mean + thr*std\n",
    "        lower_bound = mean - thr*std\n",
    "        \n",
    "        # print out the outliers\n",
    "        print(\"For \" + col + \":\\n\")\n",
    "        outliers(df, col, upper_bound, lower_bound)"
   ]
  },
  {
   "cell_type": "code",
   "execution_count": 73,
   "metadata": {},
   "outputs": [
    {
     "name": "stdout",
     "output_type": "stream",
     "text": [
      "For RM:\n",
      "\n",
      "Outliers Detected\n",
      "365    3.561\n",
      "367    3.863\n",
      "406    4.138\n",
      "374    4.138\n",
      "384    4.368\n",
      "414    4.519\n",
      "412    4.628\n",
      "386    4.652\n",
      "273    7.691\n",
      "180    7.765\n",
      "162    7.802\n",
      "280    7.820\n",
      "98     7.820\n",
      "186    7.831\n",
      "203    7.853\n",
      "195    7.875\n",
      "283    7.923\n",
      "166    7.929\n",
      "204    8.034\n",
      "226    8.040\n",
      "97     8.069\n",
      "233    8.247\n",
      "253    8.259\n",
      "224    8.266\n",
      "267    8.297\n",
      "232    8.337\n",
      "163    8.375\n",
      "262    8.398\n",
      "257    8.704\n",
      "225    8.725\n",
      "364    8.780\n",
      "Name: RM, dtype: float64\n",
      "\n",
      "Total number of ourliers detected:31\n",
      "\n",
      "Wall time: 6.02 ms\n"
     ]
    }
   ],
   "source": [
    "# calling the function and timing it\n",
    "%time zscore_method(boston_df, [\"RM\"], 3)"
   ]
  },
  {
   "cell_type": "markdown",
   "metadata": {},
   "source": [
    "#### 2. IQR Method"
   ]
  },
  {
   "cell_type": "code",
   "execution_count": 50,
   "metadata": {},
   "outputs": [],
   "source": [
    "def iqr_method(df, cols, factor):\n",
    "    \n",
    "    for col in cols:\n",
    "        \n",
    "        q1 = df[col].quantile(0.25)\n",
    "        q3 = df[col].quantile(0.75)\n",
    "        \n",
    "        iqr = q3 - q1\n",
    "        \n",
    "        upper_whisker = q3 + (factor*iqr)\n",
    "        lower_whisker = q1 - (factor*iqr)\n",
    "        \n",
    "        # print out the outliers\n",
    "        print(\"For \" + col + \":\\n\")\n",
    "        outliers(df, col, upper_whisker, lower_whisker)"
   ]
  },
  {
   "cell_type": "code",
   "execution_count": 54,
   "metadata": {
    "scrolled": false
   },
   "outputs": [
    {
     "name": "stdout",
     "output_type": "stream",
     "text": [
      "For RM:\n",
      "\n",
      "Outliers Detected\n",
      "365    3.561\n",
      "367    3.863\n",
      "406    4.138\n",
      "374    4.138\n",
      "384    4.368\n",
      "414    4.519\n",
      "412    4.628\n",
      "386    4.652\n",
      "180    7.765\n",
      "162    7.802\n",
      "280    7.820\n",
      "98     7.820\n",
      "186    7.831\n",
      "203    7.853\n",
      "195    7.875\n",
      "283    7.923\n",
      "166    7.929\n",
      "204    8.034\n",
      "226    8.040\n",
      "97     8.069\n",
      "233    8.247\n",
      "253    8.259\n",
      "224    8.266\n",
      "267    8.297\n",
      "232    8.337\n",
      "163    8.375\n",
      "262    8.398\n",
      "257    8.704\n",
      "225    8.725\n",
      "364    8.780\n",
      "Name: RM, dtype: float64\n",
      "\n",
      "Total number of ourliers detected:30\n",
      "\n",
      "Wall time: 6.98 ms\n"
     ]
    }
   ],
   "source": [
    "# print out the outliers\n",
    "%time iqr_method(boston_df, [\"RM\"], 1.5)"
   ]
  },
  {
   "cell_type": "code",
   "execution_count": 55,
   "metadata": {},
   "outputs": [
    {
     "data": {
      "text/plain": [
       "<matplotlib.axes._subplots.AxesSubplot at 0x1dbad92f340>"
      ]
     },
     "execution_count": 55,
     "metadata": {},
     "output_type": "execute_result"
    },
    {
     "data": {
      "image/png": "[encoded data removed]",
      "text/plain": [
       "<Figure size 432x288 with 1 Axes>"
      ]
     },
     "metadata": {
      "needs_background": "light"
     },
     "output_type": "display_data"
    }
   ],
   "source": [
    "# we can verify the boundaries in boxplot below\n",
    "sns.boxplot(boston_df.RM)"
   ]
  },
  {
   "cell_type": "markdown",
   "metadata": {},
   "source": [
    "#### 3. MAD method"
   ]
  },
  {
   "cell_type": "code",
   "execution_count": 83,
   "metadata": {},
   "outputs": [],
   "source": [
    "def mad_method(df, cols, thr):\n",
    "    \n",
    "    for col in cols:\n",
    "        \n",
    "        median = df[col].median()\n",
    "        mad = stats.median_abs_deviation(df[col], scale=\"normal\")\n",
    "        \n",
    "        upper_bound = median + thr*mad\n",
    "        lower_bound = median - thr*mad\n",
    "        \n",
    "        # print out the outliers\n",
    "        print(\"For \" + col + \":\\n\")\n",
    "        outliers(df, col, upper_bound, lower_bound)"
   ]
  },
  {
   "cell_type": "code",
   "execution_count": 84,
   "metadata": {},
   "outputs": [
    {
     "name": "stdout",
     "output_type": "stream",
     "text": [
      "For RM:\n",
      "\n",
      "Outliers Detected\n",
      "365    3.561\n",
      "367    3.863\n",
      "406    4.138\n",
      "374    4.138\n",
      "384    4.368\n",
      "414    4.519\n",
      "412    4.628\n",
      "386    4.652\n",
      "180    7.765\n",
      "162    7.802\n",
      "280    7.820\n",
      "98     7.820\n",
      "186    7.831\n",
      "203    7.853\n",
      "195    7.875\n",
      "283    7.923\n",
      "166    7.929\n",
      "204    8.034\n",
      "226    8.040\n",
      "97     8.069\n",
      "233    8.247\n",
      "253    8.259\n",
      "224    8.266\n",
      "267    8.297\n",
      "232    8.337\n",
      "163    8.375\n",
      "262    8.398\n",
      "257    8.704\n",
      "225    8.725\n",
      "364    8.780\n",
      "Name: RM, dtype: float64\n",
      "\n",
      "Total number of ourliers detected:30\n",
      "\n",
      "Wall time: 6.93 ms\n"
     ]
    }
   ],
   "source": [
    "# calling the function and timing it\n",
    "%time mad_method(boston_df, [\"RM\"], 3)"
   ]
  },
  {
   "cell_type": "markdown",
   "metadata": {},
   "source": [
    "#### 4. Two-stage Thresholding (2T)"
   ]
  },
  {
   "cell_type": "markdown",
   "metadata": {},
   "source": [
    "##### 4.1. 2T with SD"
   ]
  },
  {
   "cell_type": "code",
   "execution_count": 75,
   "metadata": {},
   "outputs": [],
   "source": [
    "def zscore_2t_method(df, cols, thr1, thr2):\n",
    "    \n",
    "    for col in cols:\n",
    "        \n",
    "        mean1 = df[col].mean()\n",
    "        std1 = df[col].std()\n",
    "        \n",
    "        upper_bound1 = mean1 + thr1*std1\n",
    "        lower_bound1 = mean1 - thr1*std1\n",
    "        \n",
    "        df_2T = df.loc[(df[col] <= upper_bound1) & (df[col] >= lower_bound1), :].copy()\n",
    "        \n",
    "        mean2 = df_2T[col].mean()\n",
    "        std2 = df_2T[col].std()\n",
    "        \n",
    "        upper_bound2 = mean2 + thr2*std2\n",
    "        lower_bound2 = mean2 - thr2*std2\n",
    "        \n",
    "        # print out the outliers\n",
    "        print(\"For \" + col + \":\\n\")\n",
    "        outliers(df, col, upper_bound2, lower_bound2)"
   ]
  },
  {
   "cell_type": "code",
   "execution_count": 78,
   "metadata": {},
   "outputs": [
    {
     "name": "stdout",
     "output_type": "stream",
     "text": [
      "For RM:\n",
      "\n",
      "Outliers Detected\n",
      "365    3.561\n",
      "367    3.863\n",
      "406    4.138\n",
      "374    4.138\n",
      "384    4.368\n",
      "414    4.519\n",
      "412    4.628\n",
      "386    4.652\n",
      "283    7.923\n",
      "166    7.929\n",
      "204    8.034\n",
      "226    8.040\n",
      "97     8.069\n",
      "233    8.247\n",
      "253    8.259\n",
      "224    8.266\n",
      "267    8.297\n",
      "232    8.337\n",
      "163    8.375\n",
      "262    8.398\n",
      "257    8.704\n",
      "225    8.725\n",
      "364    8.780\n",
      "Name: RM, dtype: float64\n",
      "\n",
      "Total number of ourliers detected:23\n",
      "\n",
      "Wall time: 6.23 ms\n"
     ]
    }
   ],
   "source": [
    "# calling the function and timing it\n",
    "%time zscore_2t_method(boston_df, [\"RM\"], 3, 2.5)"
   ]
  },
  {
   "cell_type": "markdown",
   "metadata": {},
   "source": [
    "##### 4.2. 2T with IQR"
   ]
  },
  {
   "cell_type": "code",
   "execution_count": 81,
   "metadata": {},
   "outputs": [],
   "source": [
    "def iqr_2t_method(df, cols, factor1, factor2):\n",
    "    \n",
    "    for col in cols:\n",
    "        \n",
    "        q1 = df[col].quantile(0.25)\n",
    "        q3 = df[col].quantile(0.75)\n",
    "        \n",
    "        iqr1 = q3 - q1\n",
    "        \n",
    "        upper_whisker1 = q3 + (factor1*iqr1)\n",
    "        lower_whisker1 = q1 - (factor1*iqr1)\n",
    "        \n",
    "        df_2T = df.loc[(df[col] <= upper_whisker1) & (df[col] >= lower_whisker1), :].copy()\n",
    "        \n",
    "        q1 = df_2T[col].quantile(0.25)\n",
    "        q3 = df_2T[col].quantile(0.75)\n",
    "        \n",
    "        iqr2 = q3 - q1\n",
    "        \n",
    "        upper_whisker2 = q3 + (factor2*iqr2)\n",
    "        lower_whisker2 = q1 - (factor2*iqr2)\n",
    "        \n",
    "        # print out the outliers\n",
    "        print(\"For \" + col + \":\\n\")\n",
    "        outliers(df, col, upper_whisker2, lower_whisker2)"
   ]
  },
  {
   "cell_type": "code",
   "execution_count": 82,
   "metadata": {},
   "outputs": [
    {
     "name": "stdout",
     "output_type": "stream",
     "text": [
      "For RM:\n",
      "\n",
      "Outliers Detected\n",
      "365    3.561\n",
      "367    3.863\n",
      "406    4.138\n",
      "374    4.138\n",
      "384    4.368\n",
      "414    4.519\n",
      "412    4.628\n",
      "386    4.652\n",
      "388    4.880\n",
      "202    7.610\n",
      "282    7.645\n",
      "228    7.686\n",
      "273    7.691\n",
      "180    7.765\n",
      "162    7.802\n",
      "280    7.820\n",
      "98     7.820\n",
      "186    7.831\n",
      "203    7.853\n",
      "195    7.875\n",
      "283    7.923\n",
      "166    7.929\n",
      "204    8.034\n",
      "226    8.040\n",
      "97     8.069\n",
      "233    8.247\n",
      "253    8.259\n",
      "224    8.266\n",
      "267    8.297\n",
      "232    8.337\n",
      "163    8.375\n",
      "262    8.398\n",
      "257    8.704\n",
      "225    8.725\n",
      "364    8.780\n",
      "Name: RM, dtype: float64\n",
      "\n",
      "Total number of ourliers detected:35\n",
      "\n",
      "Wall time: 13.6 ms\n"
     ]
    }
   ],
   "source": [
    "# calling the function and timing it\n",
    "%time iqr_2t_method(boston_df, [\"RM\"], 1.5, 1.5)"
   ]
  },
  {
   "cell_type": "markdown",
   "metadata": {},
   "source": [
    "##### 4.3. 2T with MAD"
   ]
  },
  {
   "cell_type": "code",
   "execution_count": 85,
   "metadata": {},
   "outputs": [],
   "source": [
    "def mad_2t_method(df, cols, thr1, thr2):\n",
    "    \n",
    "    for col in cols:\n",
    "        \n",
    "        median1 = df[col].median()\n",
    "        mad1 = stats.median_abs_deviation(df[col], scale=\"normal\")\n",
    "        \n",
    "        upper_bound1 = median1 + thr1*mad1\n",
    "        lower_bound1 = median1 - thr1*mad1\n",
    "        \n",
    "        df_2T = df.loc[(df[col] <= upper_bound1) & (df[col] >= lower_bound1), :].copy()\n",
    "        \n",
    "        median2 = df_2T[col].median()\n",
    "        mad2 = stats.median_abs_deviation(df_2T[col], scale=\"normal\")\n",
    "        \n",
    "        upper_bound2 = median2 + thr2*mad2\n",
    "        lower_bound2 = median2 - thr2*mad2\n",
    "        \n",
    "        # print out the outliers\n",
    "        print(\"For \" + col + \":\\n\")\n",
    "        outliers(df, col, upper_bound2, lower_bound2)"
   ]
  },
  {
   "cell_type": "code",
   "execution_count": 86,
   "metadata": {},
   "outputs": [
    {
     "name": "stdout",
     "output_type": "stream",
     "text": [
      "For RM:\n",
      "\n",
      "Outliers Detected\n",
      "365    3.561\n",
      "367    3.863\n",
      "406    4.138\n",
      "374    4.138\n",
      "384    4.368\n",
      "414    4.519\n",
      "412    4.628\n",
      "386    4.652\n",
      "202    7.610\n",
      "282    7.645\n",
      "228    7.686\n",
      "273    7.691\n",
      "180    7.765\n",
      "162    7.802\n",
      "98     7.820\n",
      "280    7.820\n",
      "186    7.831\n",
      "203    7.853\n",
      "195    7.875\n",
      "283    7.923\n",
      "166    7.929\n",
      "204    8.034\n",
      "226    8.040\n",
      "97     8.069\n",
      "233    8.247\n",
      "253    8.259\n",
      "224    8.266\n",
      "267    8.297\n",
      "232    8.337\n",
      "163    8.375\n",
      "262    8.398\n",
      "257    8.704\n",
      "225    8.725\n",
      "364    8.780\n",
      "Name: RM, dtype: float64\n",
      "\n",
      "Total number of ourliers detected:34\n",
      "\n",
      "Wall time: 9.69 ms\n"
     ]
    }
   ],
   "source": [
    "# calling the function and timing it\n",
    "%time mad_2t_method(boston_df, [\"RM\"], 3, 3)"
   ]
  },
  {
   "cell_type": "markdown",
   "metadata": {},
   "source": [
    "#### 5. Clever Standard Deviation "
   ]
  },
  {
   "cell_type": "code",
   "execution_count": 107,
   "metadata": {},
   "outputs": [],
   "source": [
    "def csd_method(df, cols, n):\n",
    "    \n",
    "    for col in cols:\n",
    "        \n",
    "        df_csd = df.copy()\n",
    "        outliers_csd = list()\n",
    "        \n",
    "        # the code below will point out to every outlier based on clever S.D.\n",
    "        for k in range(0, round(len(df)/n)):\n",
    "            \n",
    "            # this part will check from the lower extreme for outliers\n",
    "            lower_extreme_index = df_csd[col].sort_values().index[0]\n",
    "            lower_extreme_value = df_csd[col][lower_extreme_index]\n",
    "            \n",
    "            df_csd = df_csd[df_csd[col].index != lower_extreme_index]\n",
    "            cv = df_csd[col].var()\n",
    "            cm = df_csd[col].mean()\n",
    "            \n",
    "            if abs(cm-lower_extreme_value) > 2.5*np.sqrt(cv):\n",
    "                outliers_csd.append(lower_extreme_value)\n",
    "            \n",
    "            # this part will check from the upper extreme for outliers\n",
    "            upper_extreme_index = df_csd[col].sort_values().index[-1]\n",
    "            upper_extreme_value = df_csd[col][upper_extreme_index]\n",
    "            \n",
    "            df_csd = df_csd[df_csd[col].index != upper_extreme_index]\n",
    "            cv = df_csd[col].var()\n",
    "            cm = df_csd[col].mean()\n",
    "            \n",
    "            if abs(cm-upper_extreme_value) > 2.5*np.sqrt(cv):\n",
    "                outliers_csd.append(upper_extreme_value)\n",
    "            \n",
    "        print(\"\\nOutliers Detected for \" + col + \":\\n\")\n",
    "        print(outliers_csd)\n",
    "        print(\"\\nTotal number of ourliers detected: {} \\n\".format(len(outliers_csd)))"
   ]
  },
  {
   "cell_type": "code",
   "execution_count": 120,
   "metadata": {},
   "outputs": [
    {
     "name": "stdout",
     "output_type": "stream",
     "text": [
      "\n",
      "Outliers Detected for RM:\n",
      "\n",
      "[3.561, 8.78, 3.863, 8.725, 4.138, 8.704, 4.138, 8.398, 4.368, 8.375, 4.519, 8.337, 4.628, 8.297, 4.652, 8.266, 8.259, 8.247, 8.069, 8.04, 8.034, 7.929, 7.923, 7.875, 7.853, 7.831, 7.82, 7.82, 7.802, 7.765, 7.691, 7.686, 7.645, 7.61, 7.52, 7.489, 7.47, 7.454, 7.42, 7.416, 7.412, 7.393, 7.358]\n",
      "\n",
      "Total number of ourliers detected: 43 \n",
      "\n",
      "Wall time: 95.7 ms\n"
     ]
    }
   ],
   "source": [
    "%time csd_method(boston_df, [\"RM\"], 14)"
   ]
  }
 ],
 "metadata": {
  "kernelspec": {
   "display_name": "Python 3",
   "language": "python",
   "name": "python3"
  },
  "language_info": {
   "codemirror_mode": {
    "name": "ipython",
    "version": 3
   },
   "file_extension": ".py",
   "mimetype": "text/x-python",
   "name": "python",
   "nbconvert_exporter": "python",
   "pygments_lexer": "ipython3",
   "version": "3.8.3"
  }
 },
 "nbformat": 4,
 "nbformat_minor": 4
}
